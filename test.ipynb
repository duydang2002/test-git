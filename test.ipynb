{
 "cells": [
  {
   "cell_type": "markdown",
   "id": "b8663df2",
   "metadata": {},
   "source": [
    "need to install ipykernel to run seta ?"
   ]
  },
  {
   "cell_type": "markdown",
   "id": "477756ee",
   "metadata": {},
   "source": [
    "AI :Tạo hệ thống xử lí như con người hoặc giống con người VD nhận thức suy luận, học tập, quyết định.\n",
    "Machine Learning: Nhánh của AI tập trung vào việc xây dựng mô hình học từ dữ liệu để đưa ra quyết định VD Decision Tree, random forest.\n",
    "DL: Nhánh của ML dùng mạng neural nhiều tầng để học representation phức tạp\n",
    "DS : Liên ngành kết hợp kiến thức xác xuất thống kê, lập trình cùng với ML/DL và kiến thức đặc thù để trích xuất insight từ dữ liệu.\n",
    "\n",
    "ML Engineer là cầu nối giữa Data Science và Software Engineering:\n",
    "DS thường tập trung vào mô hình & phân tích.\n",
    "ML Engineer lo về production, scalability, deployment.\n",
    "\n"
   ]
  },
  {
   "cell_type": "code",
   "execution_count": 3,
   "id": "f9257476",
   "metadata": {},
   "outputs": [],
   "source": [
    "from sklearn.ensemble import RandomForestClassifier\n",
    "from sklearn.tree import DecisionTreeClassifier\n",
    "from sklearn.svm import SVC\n",
    "import numpy\n",
    "import pandas as pd\n"
   ]
  },
  {
   "cell_type": "markdown",
   "id": "f56c376f",
   "metadata": {},
   "source": [
    " Dropna, fillna, to_numeric, encode, outlier (delete using IQR (Interquartile Range) or Z-score) as wragling\n",
    "#EG delete outlier\n",
    "\n",
    "import pandas as pd\n",
    "\n",
    "Q1 = df['Age'].quantile(0.25)\n",
    "Q3 = df['Age'].quantile(0.75)\n",
    "IQR = Q3 - Q1\n",
    "\n",
    "df_no_outlier = df[~((df['Age'] < (Q1 - 1.5 * IQR)) | (df['Age'] > (Q3 + 1.5 * IQR)))]\n",
    "\n",
    "using z-score (if z-score > 3 -> outlier)\n",
    "\n",
    "import numpy as np\n",
    "\n",
    "data = np.array([10, 12, 13, 15, 18, 20, 22, 25])\n",
    "mean = np.mean(data)\n",
    "std = np.std(data)\n",
    "\n",
    "z_scores = (data - mean) / std\n",
    "print(z_scores)\n"
   ]
  },
  {
   "cell_type": "code",
   "execution_count": null,
   "id": "d09c32ea",
   "metadata": {},
   "outputs": [],
   "source": [
    "# Remove missing values\n",
    "dataset.dropna(axis=0, inplace=True, how=\"any\")\n",
    "\n",
    "#check finite\n",
    "np.all(np.isfinite(dataset))\n",
    "# Replace infinite values to NaN\n",
    "dataset.replace([-np.inf, np.inf], np.nan, inplace=True)\n",
    "\n",
    "# Check which labels are related to infinte values\n",
    "dataset[(dataset['flow_bytes_s'].isnull()) & (dataset['flow_packets_s'].isnull())].label.unique()\n",
    "\n",
    "# Remove infinte values\n",
    "dataset.dropna(axis=0, how='any', inplace=True)"
   ]
  },
  {
   "cell_type": "markdown",
   "id": "616be656",
   "metadata": {},
   "source": [
    "SQL structure\n",
    "@Query:\n",
    "SELECT column1, column2, ... (Can add district after SELECT to remove duplicate)\n",
    "FROM table_name\n",
    "WHERE condition\n",
    "ORDER BY column ASC|DESC\n",
    "\n",
    "@Insert:\n",
    "INSERT INTO table_name (column1, column2, ...)\n",
    "VALUES (value1, value2, ...);\n",
    "\n",
    "@Update:\n",
    "UPDATE table_name\n",
    "SET column1 = value1, column2 = value2, ...\n",
    "WHERE condition;\n",
    "\n",
    "@Delete:\n",
    "DELETE FROM table_name\n",
    "WHERE condition;\n",
    "\n",
    "@Join\n",
    "SELECT s.name, c.course_name\n",
    "FROM students s\n",
    "INNER JOIN courses c ON s.id = c.student_id;\n",
    "\n",
    "@Aggregate Function COUNT(), SUM(), AVG(), MIN(), MAX():\n",
    "SELECT major, COUNT(*) FROM students GROUP BY major;\n",
    "SELECT major, COUNT(*) FROM students GROUP BY major HAVING COUNT(*) > 5; \n",
    "COUNT(*)\tĐếm tất cả dòng (bao gồm cả dòng có NULL ở bất kỳ cột nào)\n",
    "COUNT(column)\tĐếm số dòng có giá trị khác NULL trong column\n"
   ]
  },
  {
   "cell_type": "code",
   "execution_count": null,
   "id": "aaa30ba0",
   "metadata": {},
   "outputs": [],
   "source": []
  }
 ],
 "metadata": {
  "kernelspec": {
   "display_name": "seta",
   "language": "python",
   "name": "python3"
  },
  "language_info": {
   "codemirror_mode": {
    "name": "ipython",
    "version": 3
   },
   "file_extension": ".py",
   "mimetype": "text/x-python",
   "name": "python",
   "nbconvert_exporter": "python",
   "pygments_lexer": "ipython3",
   "version": "3.9.23"
  }
 },
 "nbformat": 4,
 "nbformat_minor": 5
}
